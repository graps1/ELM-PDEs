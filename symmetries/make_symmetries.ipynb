{
 "cells": [
  {
   "cell_type": "code",
   "execution_count": 5,
   "metadata": {},
   "outputs": [
    {
     "data": {
      "image/png": "[encoded data removed]",
      "text/plain": [
       "<Figure size 480x480 with 1 Axes>"
      ]
     },
     "metadata": {},
     "output_type": "display_data"
    },
    {
     "name": "stdout",
     "output_type": "stream",
     "text": [
      "torch.Size([1, 8, 4, 4])\n"
     ]
    },
    {
     "data": {
      "image/png": "[encoded data removed]",
      "text/plain": [
       "<Figure size 1000x300 with 8 Axes>"
      ]
     },
     "metadata": {},
     "output_type": "display_data"
    },
    {
     "data": {
      "image/png": "[encoded data removed]",
      "text/plain": [
       "<Figure size 1000x300 with 8 Axes>"
      ]
     },
     "metadata": {},
     "output_type": "display_data"
    },
    {
     "data": {
      "image/png": "[encoded data removed]",
      "text/plain": [
       "<Figure size 1000x300 with 8 Axes>"
      ]
     },
     "metadata": {},
     "output_type": "display_data"
    },
    {
     "data": {
      "image/png": "[encoded data removed]",
      "text/plain": [
       "<Figure size 480x480 with 1 Axes>"
      ]
     },
     "metadata": {},
     "output_type": "display_data"
    }
   ],
   "source": [
    "import sys; sys.path.append(\"..\")\n",
    "import model\n",
    "import torch \n",
    "import matplotlib.pyplot as plt\n",
    "\n",
    "A = torch.arange(4*4, dtype=torch.double).view(1, 4, 4)\n",
    "A += (torch.rand(A.shape)*2-1)*1\n",
    "plt.matshow(A[0,...])\n",
    "plt.xticks([])\n",
    "plt.yticks([])\n",
    "plt.savefig(\"input.pdf\", format=\"pdf\", bbox_inches=\"tight\")\n",
    "plt.show()\n",
    "\n",
    "\n",
    "# builds symmetries\n",
    "R_e = torch.eye(2, dtype=torch.double)\n",
    "R_90 = torch.tensor([[0,-1],[1,0]], dtype=torch.double)\n",
    "R_F = torch.tensor([[0, 1],[1,0]], dtype=torch.double)\n",
    "R = [ \n",
    "    R_e, \n",
    "    R_90, \n",
    "    R_F, \n",
    "    R_90 @ R_90, \n",
    "    R_90 @ R_90 @ R_90, \n",
    "    R_90 @ R_F, \n",
    "    R_90 @ R_90 @ R_F, \n",
    "    R_90 @ R_90 @ R_90 @ R_F ]\n",
    "R = torch.stack(R, dim=0)\n",
    "A_sym = A.unsqueeze(1).expand(-1, 8, -1, -1)\n",
    "A_sym = torch.einsum(\"ijkl,ijkl -> \")\n",
    "print(A_sym.shape)\n",
    "\n",
    "A_sym = model.expand_and_apply_symmetries(A, dims=[1,2], nr_symmetries=8)\n",
    "fig, ax = plt.subplots(1,8,figsize=(10, 3))\n",
    "for i in range(8):\n",
    "    ax[i].matshow(A_sym[0,i,...])\n",
    "    ax[i].set_xticks([])\n",
    "    ax[i].set_yticks([])\n",
    "plt.savefig(\"input_symmetrized.pdf\", format=\"pdf\", bbox_inches=\"tight\")\n",
    "plt.show()\n",
    "\n",
    "\n",
    "fig, ax = plt.subplots(1,8,figsize=(10, 3),gridspec_kw={\"wspace\":1.2})\n",
    "w = torch.tensor([[-.1, .1, -.1],[.1, 1.,.1],[-.1,.1,-.1]], dtype=torch.double).view(1,1,3,3)\n",
    "w += (torch.rand(w.shape)*2-1)*.06\n",
    "f = torch.nn.functional.conv2d(A_sym.permute(1,0,2,3), weight=w, stride=[1,1])\n",
    "f = f.permute(1,0,2,3)\n",
    "\n",
    "for i in range(8):\n",
    "    ax[i].matshow(f[0,i,...], vmin=f.min(), vmax=f.max())\n",
    "    ax[i].set_xticks([])\n",
    "    ax[i].set_yticks([])\n",
    "plt.savefig(\"output_symmetrized.pdf\", format=\"pdf\", bbox_inches=\"tight\")\n",
    "plt.show()\n",
    "\n",
    "f_hat = model.apply_symmetries(f, dims=[1,2], inv=True)\n",
    "fig, ax = plt.subplots(1,8,figsize=(10, 3),gridspec_kw={\"wspace\":1.2})\n",
    "for i in range(8):\n",
    "    ax[i].matshow(f_hat[0,i,...], vmin=f.min(), vmax=f.max())\n",
    "    ax[i].set_xticks([])\n",
    "    ax[i].set_yticks([])\n",
    "plt.savefig(\"output_reverted.pdf\", format=\"pdf\", bbox_inches=\"tight\")\n",
    "plt.show()\n",
    "\n",
    "f_agg = f_hat.mean(dim=1).view(2,2)\n",
    "plt.matshow(f_agg, vmin=f.min(), vmax=f.max())\n",
    "plt.xticks([])\n",
    "plt.yticks([])\n",
    "plt.savefig(\"output.pdf\", format=\"pdf\", bbox_inches=\"tight\")\n",
    "plt.show()"
   ]
  },
  {
   "cell_type": "code",
   "execution_count": 105,
   "metadata": {},
   "outputs": [
    {
     "name": "stdout",
     "output_type": "stream",
     "text": [
      "tensor([[3.1530e-01, 3.0871e-03, 3.4794e-01],\n",
      "        [1.1389e-01, 1.1393e-01, 4.1642e-01],\n",
      "        [3.1742e-01, 1.5627e-04, 2.0007e-02]])\n",
      "tensor([[3.1530e-01, 3.0871e-03, 3.4794e-01],\n",
      "        [1.1389e-01, 1.1393e-01, 4.1642e-01],\n",
      "        [3.1742e-01, 1.5627e-04, 2.0007e-02]])\n"
     ]
    }
   ],
   "source": [
    "R_e = torch.flip(torch.eye(3), [1])\n",
    "A = torch.rand(3,3)\n",
    "B = torch.rand(3,3)\n",
    "print(R_e @ (A * B))\n",
    "print((R_e @ A) * (R_e @ B))"
   ]
  }
 ],
 "metadata": {
  "kernelspec": {
   "display_name": "Python 3",
   "language": "python",
   "name": "python3"
  },
  "language_info": {
   "codemirror_mode": {
    "name": "ipython",
    "version": 3
   },
   "file_extension": ".py",
   "mimetype": "text/x-python",
   "name": "python",
   "nbconvert_exporter": "python",
   "pygments_lexer": "ipython3",
   "version": "3.10.12"
  }
 },
 "nbformat": 4,
 "nbformat_minor": 2
}
